{
 "cells": [
  {
   "cell_type": "markdown",
   "id": "9521ef74-f17f-4a8c-ae3c-89f9aaa2c6eb",
   "metadata": {},
   "source": [
    "# 4 - Scheduling de charlas\n",
    "Dada un aula/sala donde se pueden dar charlas. Las charlas tienen horario de inicio y fin. Implementar un algoritmo Greedy que reciba el arreglo de los horarios de las charlas, representando en tuplas los horarios de inicios de las charlas, y sus horarios de fin, e indique cuáles son las charlas a dar para maximizar la cantidad total de charlas."
   ]
  },
  {
   "cell_type": "code",
   "execution_count": null,
   "id": "76cbc22f-1819-4bec-8d21-19da8374b240",
   "metadata": {},
   "outputs": [],
   "source": [
    "INICIO = 0\n",
    "FIN = 1\n",
    "def charlas(horarios):\n",
    "    if len(horarios) <= 1:\n",
    "        return horarios\n",
    "        \n",
    "    h_ordenados =  sorted(horarios, key=lambda x:x[1])\n",
    "    primer_h = h_ordenados[0]\n",
    "    fin_h = primer_h[FIN]\n",
    "    \n",
    "    h_optimo = []\n",
    "    h_optimo.append(primer_h)\n",
    "\n",
    "    for h in h_ordenados[1:]:\n",
    "        if h[INICIO] >= fin_h:\n",
    "            h_optimo.append(h)\n",
    "            fin_h = h[FIN]\n",
    "\n",
    "    return h_optimo"
   ]
  },
  {
   "cell_type": "markdown",
   "id": "7079f209-b812-48e7-8791-17b04d45899b",
   "metadata": {},
   "source": [
    "# 6 - Problema del cambio\n",
    "Se tiene un sistema monetario (ejemplo, el nuestro). Se quiere dar \"cambio\" de una determinada cantidad de plata. Implementar un algoritmo Greedy que devuelva el cambio pedido, usando la mínima cantidad de monedas/billetes. El algoritmo recibirá un arreglo de valores del sistema monetario, y la cantidad de cambio objetivo a dar, y debe devolver qué monedas/billetes deben ser utilizados para minimizar la cantidad total utilizada."
   ]
  },
  {
   "cell_type": "code",
   "execution_count": null,
   "id": "ebf3794a-7bad-471c-a845-ddc7db40a91a",
   "metadata": {},
   "outputs": [],
   "source": [
    "def cambio(monedas, monto):\n",
    "    cambio_min = []\n",
    "    cant_monedas = len(monedas)\n",
    "\n",
    "    vuelto = 0\n",
    "    i = cant_monedas - 1\n",
    "    while vuelto < monto:\n",
    "        if vuelto <= monto and (monedas[i] + vuelto) <= monto:\n",
    "            cambio_min.append(monedas[i])\n",
    "            vuelto += monedas[i]\n",
    "        else:\n",
    "            i -= 1\n",
    "\n",
    "    return cambio_min"
   ]
  },
  {
   "cell_type": "markdown",
   "id": "8ed7144f-248e-489d-aeb5-982f9515b3bb",
   "metadata": {},
   "source": [
    "# 7 - Inflacion\n",
    "Tenemos unos productos dados por un arreglo R, donde R[i] nos dice el precio del producto. Cada día podemos y debemos comprar uno (y sólo uno) de los productos, pero vivimos en una era de inflación y los precios aumentan todo el tiempo. El precio del producto i el día j es R[i]^{j + 1} (j comenzando en 0). Implementar un algoritmo greedy que nos indique el precio mínimo al que podemos comprar todos los productos."
   ]
  },
  {
   "cell_type": "code",
   "execution_count": null,
   "id": "280b873b-307e-4161-8848-8dcca14c02c8",
   "metadata": {},
   "outputs": [],
   "source": [
    "def precios_inflacion(R):\n",
    "    r_ordenado = sorted(R)\n",
    "    precio_min = 0\n",
    "    j = 0\n",
    "\n",
    "    for r in r_ordenado:\n",
    "        precio_min += r ** (j + 1)\n",
    "        j += 1\n",
    "\n",
    "    return precio_min"
   ]
  },
  {
   "cell_type": "markdown",
   "id": "bf743af0-8cc3-4d90-9901-4e7df89eb36e",
   "metadata": {},
   "source": [
    "# 7b - Deflacion\n",
    "En Wakanda, tenemos unos productos dados por un arreglo R, donde R[i] nos dice el precio del producto. Cada día podemos y debemos comprar uno (y sólo uno) de los productos, pero Wakanda está atravesando una era de deflación y los precios disminuyen todo el tiempo. El precio del producto i el día j+1 es exactamente la mitad del precio en el día j. El arreglo R[i] indica todos los precios del primer día. Si bien para reducir costos se debería esperar a que los productos sigan bajando, los tiempos de entrega no nos permiten esperar, y cada día debemos comprar uno de los productos.Implementar un algoritmo greedy que nos indique el precio mínimo al que podemos comprar todos los productos."
   ]
  },
  {
   "cell_type": "code",
   "execution_count": null,
   "id": "1fce8af3-f59c-4fed-8854-de90fc54652e",
   "metadata": {},
   "outputs": [],
   "source": [
    "def precios_deflacion(R):\n",
    "    r_ordenado = sorted(R, reverse=True)\n",
    "    precio_min = 0\n",
    "    factor = 1\n",
    "\n",
    "    for r in r_ordenado:\n",
    "        precio_min += r * factor\n",
    "        factor /= 2\n",
    "\n",
    "    return precio_min"
   ]
  },
  {
   "cell_type": "markdown",
   "id": "8d4d936f-e845-42a8-adf3-9cb6f3de1377",
   "metadata": {},
   "source": [
    "# 8 - Problema de la mochila\n",
    "Tenemos una mochila con una capacidad W. Hay elementos a guardar, cada uno tiene un valor, y un peso que ocupa de la capacidad total. Queremos maximizar el valor de lo que llevamos sin exceder la capacidad. Implementar un algoritmo Greedy que, reciba dos arreglos de valores y pesos de los elementos, y devuelva qué elementos deben ser guardados para maximizar la ganancia total."
   ]
  },
  {
   "cell_type": "code",
   "execution_count": null,
   "id": "ef31ba64-1c78-4d26-8e38-96662c0d2cf9",
   "metadata": {},
   "outputs": [],
   "source": [
    "# cada elemento i de la forma (valor, peso)\n",
    "PESO = 1\n",
    "def mochila(elementos, W):\n",
    "    elementos_ordenados = sorted(elementos, reverse=True, key=lambda x:x[0]) \n",
    "    peso_total = 0\n",
    "    ganancia_max = []\n",
    "\n",
    "    for e in elementos_ordenados:\n",
    "        if (e[PESO] + peso_total) <= W:\n",
    "            ganancia_max.append(e)\n",
    "            peso_total += e[PESO]\n",
    "    \n",
    "    return ganancia_max\n",
    "\n",
    "#-----------------------------------------------------------------------------------\n",
    "IDX_VALOR = 0\n",
    "IDX_PESO = 1\n",
    "\n",
    "\n",
    "def ordenar_por_mayor_valor(elementos):\n",
    "    return sorted(elementos, key=lambda e: e[IDX_VALOR], reverse=True)\n",
    "\n",
    "\n",
    "def ordenar_por_menor_peso(elementos):\n",
    "    return sorted(elementos, key=lambda e: e[IDX_PESO])\n",
    "\n",
    "\n",
    "def ordenar_por_mayor_relacion_valor_peso(elementos):\n",
    "    return sorted(elementos, key=lambda e: e[IDX_VALOR]/e[IDX_PESO], reverse=True)\n",
    "\n",
    "\n",
    "def mochila_greedy(elementos, W, ordenamiento):\n",
    "    elementos_ord = ordenamiento(elementos)\n",
    "    capacidad_usada = 0\n",
    "    valor_obtenido = 0\n",
    "    for elem in elementos_ord:\n",
    "        if elem[IDX_PESO] + capacidad_usada > W:\n",
    "            continue\n",
    "        capacidad_usada += elem[IDX_PESO]\n",
    "        valor_obtenido += elem[IDX_VALOR]\n",
    "    return valor_obtenido"
   ]
  },
  {
   "cell_type": "markdown",
   "id": "9a3d30d3-12af-466c-afac-65a1d11301d6",
   "metadata": {},
   "source": [
    "# 9 - Scheduling para minimizar latencia\n",
    "Tenemos tareas con una duración y un deadline (fecha límite), pero pueden hacerse en cualquier momento, intentando que se hagan antes del deadline. Una tarea puede completarse luego de su deadline, pero ello tendra una penalización de latencia. Para este problema, buscamos minimizar la latencia máxima en el que las tareas se ejecuten. Es decir, dados los arreglos de: T tiempo de duraciones de las tareas y L representando al deadline de cada tarea, si definimos que una tarea i empieza en S_i, entonces termina en F_i = S_i + T_i, y su latencia es L_i = F_i - D_i (si F_i > D_i, sino 0).Nuestra latencia máxima será aquella i que maximice el valor L_i.Implementar un algoritmo que defina en qué orden deben realizarse las tareas, sabiendo que al terminar una tarea se puede empezar la siguiente.\n",
    "\n",
    "Devolver un arreglo de tuplas, una tupla por tarea, en el orden en que deben ser realizadas, y que cada tupla indique: (el tiempo de la tarea i T_tareas[i] y la latencia resultante L_i de esa tarea)."
   ]
  },
  {
   "cell_type": "code",
   "execution_count": null,
   "id": "fcf8ebb1-5e49-498a-84da-612435103e9b",
   "metadata": {},
   "outputs": [],
   "source": [
    "def minimizar_latencia(L_deadline, T_tareas):\n",
    "    # Ordenamos las tareas por su deadline, manteniendo el índice original\n",
    "    tareas = sorted(zip(L_deadline, T_tareas), key=lambda x: x[0])\n",
    "    \n",
    "    tiempo_actual = 0\n",
    "    resultado = []\n",
    "\n",
    "    for deadline, duracion in tareas:\n",
    "        tiempo_actual += duracion\n",
    "        latencia = max(0, tiempo_actual - deadline)\n",
    "        resultado.append((duracion, latencia))\n",
    "\n",
    "    return resultado"
   ]
  },
  {
   "cell_type": "markdown",
   "id": "f491716c-9db9-4a50-8a57-0622351250f8",
   "metadata": {},
   "source": [
    "# 10 - Bifurcaciones en ruta\n",
    "Una ruta tiene un conjunto de bifurcaciones para acceder a diferentes pueblos. El listado (ordenado por nombre del pueblo) contiene el número de kilómetro donde está ubicada cada una. Se desea ubicar la menor cantidad de policiales (en las bifurcaciones) de tal forma que no haya bifurcaciones con vigilancia a más de 50 km.\n",
    "\n",
    "### Ejemplo:\n",
    "\n",
    "| Ciudad      | Bifurcación |\n",
    "|-------------|-------------|\n",
    "| Castelli    | 185         |\n",
    "| Gral Guido  | 242         |\n",
    "| Lezama      | 156         |\n",
    "| Maipú       | 270         |\n",
    "| Sevigne     | 194         |\n",
    "\n",
    "Si pongo un patrullero en la bifurcación de Lezama, cubro Castelli y Sevigne. Pero no Gral Guido y Maipú. Necesitaría en ese caso, poner otro. Agrego otro patrullero en Gral Guido. Con eso tengo 2 móviles policiales en bifurcaciones que cubren todas los accesos a todas las ciudades con distancia menor a 50km.En un caso alternativo donde solamente se consideren las bifurcaciones de Castelli, Gral Guido y Sevigne, la única solución óptima sería colocar un móvil policial en Sevigne."
   ]
  },
  {
   "cell_type": "code",
   "execution_count": null,
   "id": "2a904ef0-206d-4324-8027-a8b3d1365a81",
   "metadata": {},
   "outputs": [],
   "source": [
    "def bifurcaciones_con_patrulla(ciudades):\n",
    "    ciudades_ord = sorted(ciudades, key=lambda x: x[1])\n",
    "    patrullas = []\n",
    "    i = 0\n",
    "    n = len(ciudades_ord)\n",
    "    while i < n:\n",
    "        km_patrulla = ciudades_ord[i][1] + 50\n",
    "        j = i\n",
    "        while j < n and ciudades_ord[j][1] <= km_patrulla:\n",
    "            j += 1\n",
    "\n",
    "        patrullas.append(ciudades_ord[j-1])\n",
    "        km_patrulla = ciudades_ord[j-1][1] + 50\n",
    "        \n",
    "        while i < n and ciudades_ord[i][1] <= km_patrulla:\n",
    "            i += 1\n",
    "\n",
    "    return patrullas"
   ]
  },
  {
   "cell_type": "markdown",
   "id": "5378404d-7371-43ac-9f38-3615ba2b5e03",
   "metadata": {},
   "source": [
    "# 11 - Bolsas de supermercado\n",
    "Las bolsas de un supermercado se cobran por separado y soportan hasta un peso máximo P, por encima del cual se rompen. Implementar un algoritmo greedy que, teniendo una lista de pesos de n productos comprados, encuentre la mejor forma de distribuir los productos en la menor cantidad posible de bolsas. Realizar el seguimiento del algoritmo propuesto para bolsas con peso máximo 5 y para una lista con los pesos: [ 4, 2, 1, 3, 5 ]"
   ]
  },
  {
   "cell_type": "code",
   "execution_count": null,
   "id": "1c9ab894-dda9-4ddc-9021-5c4392a5bea4",
   "metadata": {},
   "outputs": [],
   "source": [
    "def bolsas(capacidad, productos):\n",
    "    arr_bolsas = []\n",
    "    productos.sort(reverse=True)\n",
    "\n",
    "    for p in productos:\n",
    "        usado = False\n",
    "        for i in range(len(arr_bolsas)):\n",
    "            if (sum(arr_bolsas[i]) + p) <= capacidad:\n",
    "                arr_bolsas[i].append(p)\n",
    "                usado = True\n",
    "                break\n",
    "\n",
    "        if not usado:\n",
    "            arr_bolsas.append([p])        \n",
    "\n",
    "    return arr_bolsas"
   ]
  },
  {
   "cell_type": "markdown",
   "id": "7b446acd-ed52-4f8c-b57b-4ba4afdcf483",
   "metadata": {},
   "source": [
    "# 12 - Kilometros de mafia\n",
    "Trabajamos para el mafioso Arnook, que es quien tiene la máxima influencia y poder en la zona costera de Ciudad República. Allí reina el caos y la delincuencia, a tal punto que quien termina organizando las pequeñas mafias locales no es otro sino Arnook. En particular, nos vamos a centrar en unos pedidos que recibe de parte de dichos grupos por el control de diferentes kilómetros de la ruta costera. Cada pequeña mafia le pide a Arnook control sobre un rango de kilómetros (por ejemplo, la mafia nro 1 le pide del kilómetro 1 al 3.5, la mafia 2 le pide del 3.3333 al 8, etc. . . ). Si hay una mafia tomando control de algún determinado kilómetro, no puede haber otra haciendo lo mismo (es decir, no pueden solaparse). Cada mafia pide por un rango específico. Arnook no cobra por kilómetraje sino por “otorgar el permiso”, indistintamente de los kilómetros pedidos. Ahora bien, esto es una mafia, no una ONG, y no debe rendir cuentas con nadie, así lo único que es de interés es maximizar la cantidad de permisos otorgados (asegurándose de no otorgarle algún lugar a dos mafias diferentes). Implementar un algoritmo Greedy que reciba los rangos de kilómetros pedidos por cada mafia, y determine a cuáles se les otorgará control, de forma que no hayan dos mafias ocupando mismo territorio, y a su vez maximizando la cantidad de pedidos otorgados."
   ]
  },
  {
   "cell_type": "code",
   "execution_count": null,
   "id": "b3cc1458-9fea-4c50-8b4d-31fe6c1e6c02",
   "metadata": {},
   "outputs": [],
   "source": [
    "# pedidos: lista de tuplas con (km inicio, km fin)\n",
    "INICIO = 0\n",
    "FIN = 1\n",
    "def asignar_mafias(pedidos):\n",
    "    pedidos_ord = sorted(pedidos, key=lambda x: x[FIN])\n",
    "    mafias_con_control = []\n",
    "    for p in pedidos_ord:\n",
    "        if mafias_con_control == [] or p[INICIO] > mafias_con_control[-1][FIN]:\n",
    "            mafias_con_control.append(p)\n",
    "    return mafias_con_control"
   ]
  },
  {
   "cell_type": "markdown",
   "id": "f06ac149-1db8-4a72-b117-9888180fb1cd",
   "metadata": {},
   "source": [
    "# 13 - Antenas de cobertura\n",
    "Tenemos una ruta recta muy larga, de K kilómetros, sobre la cual hay casas dispersas. En dichas casas vive gente que usa mucho sus celulares. El intendente a cargo la ruta debe renovar por completo el sistema de antenas, teniendo que construir sobre la ruta nuevas antenas. Cada antena tiene un rango de cobertura de R kilómetros (valor constante conocido).Implementar un algoritmo Greedy que reciba las ubicaciones de las casas, en número de kilómetro sobre esta ruta (números reales positivos) desordenadas, y devuelva los kilómetros sobre los que debemos construir las antenas para que todas las casas tengan cobertura, y se construya para esto la menor cantidad de antenas posibles."
   ]
  },
  {
   "cell_type": "code",
   "execution_count": null,
   "id": "f6fd0676-5bc9-4e43-ad9a-cf0b8087c439",
   "metadata": {},
   "outputs": [],
   "source": [
    "def cobertura(casas, R, K):\n",
    "    if len(casas) == 1:\n",
    "        return casas\n",
    "\n",
    "    casas_ord = sorted(casas)\n",
    "    kilometros = []\n",
    "    i = 0\n",
    "\n",
    "    while i < len(casas_ord):\n",
    "        antena_pos = casas_ord[i] + R\n",
    "        if antena_pos > K:    \n",
    "            antena_pos = casas_ord[i]\n",
    "        \n",
    "        kilometros.append(antena_pos)\n",
    "        \n",
    "        while i < len(casas_ord) and casas_ord[i] <= antena_pos + R:\n",
    "            i += 1\n",
    "  \n",
    "    return kilometros"
   ]
  },
  {
   "cell_type": "markdown",
   "id": "71d2307d-cbaa-4f8c-a458-6b9e1b733cd0",
   "metadata": {},
   "source": [
    "# 14 - Submarinos\n",
    "Se tiene una matriz donde en cada celda hay submarinos, o no, y se quiere poner faros para iluminarlos a todos. Implementar un algoritmo Greedy que dé la cantidad mínima de faros que se necesitan para que todos los submarinos queden iluminados, siendo que cada faro ilumina su celda y además todas las adyacentes (incluyendo las diagonales), y las directamente adyacentes a estas (es decir, un “radio de 2 celdas”)."
   ]
  },
  {
   "cell_type": "code",
   "execution_count": null,
   "id": "49b947c2-afb5-4c14-85b5-0460972f4cb9",
   "metadata": {},
   "outputs": [],
   "source": [
    "def submarinos(matriz):\n",
    "    subm = posiciones_submarinos(matriz)\n",
    "    faros = []\n",
    "    matriz_copia = matriz.copy()\n",
    "    while len(subm) > 0:\n",
    "        faro = mejor_faro(subm, matriz_copia)\n",
    "        faros.append(faro)\n",
    "        alumbrar(faro, subm, matriz_copia)\n",
    "    return faros\n",
    "\n",
    "def alumbrar(faro, subm, matriz):\n",
    "    for fil in range(faro[0]-2, faro[0]+3):\n",
    "        for col in range(faro[1]-2, faro[1]+3):\n",
    "            if (fil, col) in subm:\n",
    "                matriz[fil][col] = False\n",
    "                subm.remove((fil, col))         #O(1)\n",
    "                               \n",
    "def mejor_faro(subm, matriz):\n",
    "    faro = (-1,-1)\n",
    "    contMF = 0\n",
    "    for i in range(len(matriz)):\n",
    "        for j in range(len(matriz[i])):\n",
    "            cont = 0\n",
    "            for fil in range(i-2, i+3):\n",
    "                for col in range(j-2, j+3):\n",
    "                    if (fil, col) in subm:\n",
    "                        cont += 1\n",
    "            if cont > contMF:\n",
    "                contMF = cont\n",
    "                faro = (i,j)\n",
    "    return faro\n",
    "\n",
    "def posiciones_submarinos(matriz):\n",
    "    subm = set()\n",
    "    for i in range(len(matriz)):\n",
    "        for j in range(len(matriz[i])):\n",
    "            if matriz[i][j]:\n",
    "                subm.add((i,j))\n",
    "    return subm"
   ]
  },
  {
   "cell_type": "markdown",
   "id": "a7e9e7c1-9729-4ae7-9791-729c977acdc5",
   "metadata": {},
   "source": [
    "# 15 - Libros en cajas\n",
    "Se tiene una colección de n libros con diferentes espesores, que pueden estar entre 1 y n (valores no necesariamente enteros). Tu objetivo es guardar esos libros en la menor cantidad de cajas. Todas las cajas disponibles son de la misma capacidad L (se asegura que L >= n). Obviamente, no podés partir un libro para que vaya en múltiples cajas, pero sí podés poner múltiples libros en una misma caja, siempre y cuando los espesores no superen esa capacidad L. Implementar un algoritmo Greedy que obtenga las cajas, tal que se minimicen la cantidad de cajas a utilizar. "
   ]
  },
  {
   "cell_type": "code",
   "execution_count": null,
   "id": "e0c7935c-0e98-4ef5-876a-4354d256ccdf",
   "metadata": {},
   "outputs": [],
   "source": [
    "def cajas(capacidad, libros):\n",
    "    arr_cajas = []\n",
    "    libros.sort(reverse=True)\n",
    "\n",
    "    for l in libros:\n",
    "        usado = False\n",
    "        for i in range(len(arr_cajas)):\n",
    "            if (sum(arr_cajas[i]) + l) <= capacidad:\n",
    "                arr_cajas[i].append(l)\n",
    "                usado = True\n",
    "                break\n",
    "\n",
    "        if not usado:\n",
    "            arr_cajas.append([l])        \n",
    "\n",
    "    return arr_cajas"
   ]
  },
  {
   "cell_type": "markdown",
   "id": "4ec20cc5-f264-40ab-8958-a5bb9d46ef52",
   "metadata": {},
   "source": [
    "# 16 - Amigos de siempre\n",
    "El club de Amigos de Siempre prepara una cena en sus instalaciones en la que desea invitar a la máxima cantidad de sus n socios. Sin embargo por protocolo cada persona invitada debe cumplir un requisito: Sólo puede ser invitada si conoce a al menos otras 4 personas invitadas. Dada un lista de tuplas (duplas) de personas que se conocen:\n",
    "\n",
    "a. Nos solicitan seleccionar el mayor número posible de invitados. Proponer una estrategia greedy óptima para resolver el problema."
   ]
  },
  {
   "cell_type": "code",
   "execution_count": null,
   "id": "56db3ab8-1dab-4e67-9e6e-e5bae714d773",
   "metadata": {},
   "outputs": [],
   "source": [
    "from grafo import Grafo\n",
    "# conocidos: lista de pares de invitados que se conocen, cada elemento es un (a,b)\n",
    "def obtener_invitados(conocidos):\n",
    "    grafo = Grafo()\n",
    "\n",
    "    for c in conocidos:\n",
    "        for i in range(0, 2):\n",
    "            if c[i] not in grafo:\n",
    "                grafo.agregar_vertice(c[i])\n",
    "        grafo.agregar_arista(c[0], c[1])\n",
    "\n",
    "    # Voy eliminando los que tengan menos de 4 invitados\n",
    "    while len(grafo) != 0:\n",
    "        borrar = []\n",
    "        for v in grafo.obtener_vertices():\n",
    "            if len(grafo.adyacentes(v)) < 4:\n",
    "                borrar.append(v)        \n",
    "\n",
    "        if borrar == []:\n",
    "            break\n",
    "\n",
    "        for v in borrar:\n",
    "            grafo.borrar_vertice(v) \n",
    "\n",
    "    return grafo.obtener_vertices()"
   ]
  }
 ],
 "metadata": {
  "kernelspec": {
   "display_name": "Python 3 (ipykernel)",
   "language": "python",
   "name": "python3"
  },
  "language_info": {
   "codemirror_mode": {
    "name": "ipython",
    "version": 3
   },
   "file_extension": ".py",
   "mimetype": "text/x-python",
   "name": "python",
   "nbconvert_exporter": "python",
   "pygments_lexer": "ipython3",
   "version": "3.12.6"
  }
 },
 "nbformat": 4,
 "nbformat_minor": 5
}
