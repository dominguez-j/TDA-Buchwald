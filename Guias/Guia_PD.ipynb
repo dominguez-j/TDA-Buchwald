{
 "cells": [
  {
   "cell_type": "markdown",
   "id": "14234572-eec8-40c5-bdbe-2fecba38c33a",
   "metadata": {},
   "source": [
    "# 1- Fibonacci\n",
    "Implementar un algoritmo que, utilizando programación dinámica, obtenga el valor del n-ésimo número de fibonacci."
   ]
  },
  {
   "cell_type": "code",
   "execution_count": null,
   "id": "d6a30672-e5d1-4d83-b994-b7b792acd6b4",
   "metadata": {},
   "outputs": [],
   "source": [
    "def fibonacci(n):\n",
    "    if n == 0 or n == 1:\n",
    "        return 1\n",
    "\n",
    "    memo = [0] * (n + 1)\n",
    "    memo[0] = 1\n",
    "    memo[1] = 1\n",
    "\n",
    "    for i in range(2, n + 1):\n",
    "        memo[i] = memo[i - 1] + memo[i - 2]\n",
    "\n",
    "    return memo[n]"
   ]
  },
  {
   "cell_type": "markdown",
   "id": "cd0271ff-0144-4ee8-a493-d84c009a2dd2",
   "metadata": {},
   "source": [
    "# 2 - Scheduling con pesos\n",
    "Dada un aula/sala donde se pueden dar charlas. Las charlas tienen horario de inicio y fin. Además, cada charla tiene asociado un valor de ganancia. Implementar un algoritmo que, utilizando programación dinámica, reciba un arreglo que en cada posición tenga una charla representada por una tripla de inicio, fin y valor de cada charla, e indique cuáles son las charlas a dar para maximizar la ganancia total obtenida."
   ]
  },
  {
   "cell_type": "code",
   "execution_count": null,
   "id": "e6cc7e9f-1772-49bf-8eb1-76cc87fbb811",
   "metadata": {},
   "outputs": [],
   "source": []
  },
  {
   "cell_type": "markdown",
   "id": "d71636d6-13a8-47af-9613-6895acd9ba59",
   "metadata": {},
   "source": [
    "# 3 - Escalones\n",
    "Dada una escalera, y sabiendo que tenemos la capacidad de subir escalones de a 1 o 2 o 3 pasos, encontrar, utilizando programación dinámica, cuántas formas diferentes hay de subir la escalera hasta el paso n.\n",
    "\n",
    "Ejemplos:\n",
    "\n",
    "n = 0 --> Debe devolver 1 (no moverse)\n",
    "\n",
    "n = 1 --> Debe devolver 1 (paso de 1)\n",
    "\n",
    "n = 2 --> Debe devolver 2 (dos pasos de 1, o un paso de 2)\n",
    "\n",
    "n = 3 --> Debe devolver 4 (un paso de 3, o tres pasos de 1, o un paso de 2 y uno de 1, o un paso de 1 y un paso de 2)\n",
    "\n",
    "n = 4 --> Debe devolver 7\n",
    "\n",
    "n = 5 --> Debe devolver 13"
   ]
  },
  {
   "cell_type": "code",
   "execution_count": null,
   "id": "cff385ca-8df0-48ed-986b-df737cacedab",
   "metadata": {},
   "outputs": [],
   "source": [
    "def escalones(n):\n",
    "    if n == 0 or n == 1:\n",
    "        return 1\n",
    "    if n == 2:\n",
    "        return 2\n",
    "\n",
    "    memo = [0] * (n + 1)\n",
    "    memo[0] = 1\n",
    "    memo[1] = 1\n",
    "    memo[2] = 2\n",
    "\n",
    "    for i in range(3, n + 1):\n",
    "        memo[i] = memo[i - 1] + memo[i - 2] + memo[i - 3]\n",
    "\n",
    "    return memo[n]"
   ]
  },
  {
   "cell_type": "markdown",
   "id": "d9f9a262-8e97-4c87-9416-ad2e375885be",
   "metadata": {},
   "source": [
    "# 4 - Juan el vago\n",
    "Juan es ambicioso pero también algo vago. Dispone de varias ofertas de trabajo diarias, pero no quiere trabajar dos días seguidos. Dado un arreglo con el monto esperado a ganar cada día, determinar, por programación dinámica, el máximo monto a ganar, sabiendo que no aceptará trabajar dos días seguidos. Hacer una reconstrucción para verificar qué días debe trabajar."
   ]
  },
  {
   "cell_type": "code",
   "execution_count": null,
   "id": "871a4882-e63f-4b96-8aeb-763d295e286d",
   "metadata": {},
   "outputs": [],
   "source": []
  },
  {
   "cell_type": "markdown",
   "id": "838cabfe-550f-49f9-9fee-0c4088b587e1",
   "metadata": {},
   "source": [
    "# 5 - Laberinto\n",
    "Dado un laberinto representado por una grilla, queremos calcular la ganancia máxima que existe desde la posición (0,0) hasta la posición NxM. Los movimientos permitidos son, desde la esquina superior izquierda (el (0,0)), nos podemos mover hacia abajo o hacia la derecha. Pasar por un casillero determinado (i, j) nos da una ganancia de V_{i,j}. Implementar un algoritmo que, por programación dinámica, obtenga la máxima ganancia a través del laberinto. Hacer una reconstrucción del camino que se debe transitar. Indicar y justificar la complejidad del algoritmo implementado. Si hay algunos lugares por los que no podemos pasar (obstáculos), ¿cómo se debe modificar para resolver el mismo problema?\n",
    "\n",
    "Aclaración: solamente por simplicidad de las pruebas automáticas, devolver en este caso la ganancia máxima obtenible. Tener en cuenta que en un examen se pediría la reconstrucción de cómo se obtiene la ganancia."
   ]
  },
  {
   "cell_type": "code",
   "execution_count": null,
   "id": "86a09aab-ad61-40dc-add8-f1a3af725f58",
   "metadata": {},
   "outputs": [],
   "source": []
  },
  {
   "cell_type": "markdown",
   "id": "b0e7ca72-d4d0-4360-b940-fa591e7141da",
   "metadata": {},
   "source": [
    "# 6 - Teclado de teléfono\n",
    "Dado el teclado numérico de un celular, y un número inicial k, encontrar la cantidad de posibles números de longitud N empezando por botón del número inicial k. Restricción: solamente se puede presionar un botón si está arriba, abajo, a izquierda, o derecha del botón actual. Restricción: solamente se puede presionar un botón si está arriba, abajo, a izquierda, o derecha del botón actual. Implementar el algoritmo por programación dinámica.  \n",
    "\n",
    "Ejemplos:\n",
    "\n",
    "Para n=1 empezando por cualquier dígito, solamente hay un número válido (el correspondiente dígito)\n",
    "\n",
    "Para N=2, depende de cuál dígito se comienza.\n",
    "\n",
    "Empezando por 0, son válidos 00, 08 (cantidad: 2)\n",
    "\n",
    "Empezando por 1, son válidos 11, 12, 14 (cantidad: 3)\n",
    "\n",
    "Empezando por 2, son válidos 22, 21, 23, 25 (cantidad: 4)\n",
    "\n",
    "Empezando por 3, son válidos 33, 32, 36 (cantidad: 3)\n",
    "\n",
    "Empezando por 4, son válidos 44, 41, 45, 47 (cantidad: 4)\n",
    "\n",
    "Empezando por 5, son válidos 55, 52, 54, 56, 58 (cantidad: 5)\n",
    "\n",
    "Empezando por 6, son válidos 66, 63, 65, 69 (cantidad: 4)\n",
    "\n",
    "Empezando por 7, son válidos 77, 74, 78 (cantidad: 3)\n",
    "\n",
    "Empezando por 8, son válidos 88, 80, 85, 87, 89 (cantidad: 5)\n",
    "\n",
    "Empezando por 9, son válidos 99, 96, 98 (cantidad: 3)"
   ]
  },
  {
   "cell_type": "code",
   "execution_count": null,
   "id": "2a344f1d-785b-4fcb-b8ce-f7ebc784feca",
   "metadata": {},
   "outputs": [],
   "source": []
  },
  {
   "cell_type": "markdown",
   "id": "5c53b249-5b86-44e3-b057-c056e99e8cad",
   "metadata": {},
   "source": [
    "# 7 - Problema de la mochila\n",
    "Tenemos una mochila con una capacidad W. Hay elementos a guardar, cada uno tiene un valor, y un peso que ocupa de la capacidad total. Queremos maximizar el valor de lo que llevamos sin exceder la capacidad. Implementar un algoritmo que, por programación dinámica, reciba los valores y pesos de los elementos, y devuelva qué elementos deben ser guardados para maximizar la ganancia total."
   ]
  },
  {
   "cell_type": "code",
   "execution_count": null,
   "id": "046610f4-b7a3-49d1-a277-b20551c1888d",
   "metadata": {},
   "outputs": [],
   "source": []
  },
  {
   "cell_type": "markdown",
   "id": "5bd295d8-3203-40e6-95ca-8bb0dbe3d858",
   "metadata": {},
   "source": [
    "# 8 - Problema del cambio\n",
    "Se tiene un sistema monetario (ejemplo, el nuestro). Se quiere dar \"cambio\" de una determinada cantidad de plata. Se desea devolver el cambio pedido, usando la mínima cantidad de monedas/billetes. Implementar un algoritmo que, por programación dinámica, reciba un arreglo de valores del sistema monetario, y la cantidad de cambio objetivo a dar, y devuelva qué monedas/billetes deben ser utilizados para minimizar la cantidad total utilizada."
   ]
  },
  {
   "cell_type": "code",
   "execution_count": null,
   "id": "ed7939de-4ba5-403b-8d16-a4bb4b1b4d35",
   "metadata": {},
   "outputs": [],
   "source": []
  },
  {
   "cell_type": "markdown",
   "id": "d04e0938-7044-4f3a-9270-3d01a76df3f7",
   "metadata": {},
   "source": [
    "# 9 - Subset sum\n",
    "Tenemos un conjunto de números v_1, v_2, …, v_n, y queremos obtener un subconjunto de todos esos números tal que su suma sea igual o menor a un valor V, tratando de aproximarse lo más posible a V. Implementar un algoritmo que, por programación dinámica, reciba un arreglo de valores, y la suma objetivo V, y devuelva qué elementos deben ser utilizados para aproximar la suma lo más posible a V, sin pasarse."
   ]
  },
  {
   "cell_type": "code",
   "execution_count": null,
   "id": "51b7682b-0160-4fd5-8de2-3b0f7ea23260",
   "metadata": {},
   "outputs": [],
   "source": []
  },
  {
   "cell_type": "markdown",
   "id": "ad0ccbcb-0c33-46bd-aa94-2bc903f75195",
   "metadata": {},
   "source": [
    "# 10 - Tú a Londres y yo a California\n",
    "Manejamos un negocio que atiende clientes en Londres y en California. Nos interesa cada mes decidir si operar en una u otra ciudad. Los costos de operación para cada mes pueden variar y son dados por 2 arreglos: L y C, con valores para todos los meses hasta n. Naturalmente, si en un mes operamos en una ciudad, y al siguiente en una distinta, habrá un costo fijo M por la mudanza. Dados los arreglos de costos de operación en Londres (L) y California (C), indicar la secuencia de las n localizaciones en las que operar durante los n meses, sabiendo que queremos minimizar el total de los costos de operación. Se puede empezar en cualquier ciudad."
   ]
  },
  {
   "cell_type": "code",
   "execution_count": null,
   "id": "20f5d4e8-5b1c-44c7-8b64-64f481cb0966",
   "metadata": {},
   "outputs": [],
   "source": []
  },
  {
   "cell_type": "markdown",
   "id": "ae2f237f-aeaf-424d-93ae-a4992b8b57f2",
   "metadata": {},
   "source": [
    "# 11 - Operaciones hacia K\n",
    "Dado un número K, se quiere obtener la mínima cantidad de operaciones para llegar desde 0 a K, siendo que las operaciones posibles son:\n",
    "\n",
    "(i) aumentar el valor del operando en 1;\n",
    "\n",
    "(ii) duplicar el valor del operando.\n",
    "\n",
    "Implementar un algoritmo que, por programación dinámica obtenga la menor cantidad de operaciones a realizar (y cuáles son dichas operaciones). Desarrollar la ecuación de recurrencia. Indicar y justificar la complejidad del algoritmo implementado. Aclaración: asegurarse de que el algoritmo presentado sea de programación dinámica, con su correspondiente ecuación de recurrencia.\n",
    "\n",
    "Devolver un arreglo de las operaciones a realizar en orden. En texto cada opción es 'mas1' o 'por2'"
   ]
  },
  {
   "cell_type": "code",
   "execution_count": null,
   "id": "c64539ab-c968-4ec8-8755-0e1e75723c52",
   "metadata": {},
   "outputs": [],
   "source": []
  },
  {
   "cell_type": "markdown",
   "id": "1557f9ea-fb0d-4416-8773-74d020ad6a40",
   "metadata": {},
   "source": [
    "# 12 - Carlitos el primo\n",
    "Carlitos (primo de Juan, el vago) trabaja para una empresa de publicidad. Tiene un determinado presupuesto P que no puede sobrepasar, y tiene que una serie de campañas publicitarias para elegir. La campaña i cuesta Ci. También se han realizado diversos estudios que permiten estimar cuánta ganancia nos dará cada campaña, que denominaremos\n",
    "Gi. Implementar un algoritmo que reciba esta información y devuelva cuáles campañas debe realizar Carlitos. Indicar y justificar la complejidad del algoritmo propuesto. ¿Da lo mismo si los valores están expresados en pesos argentinos, dólares u otra moneda? Por ejemplo, si una campaña cuesta 100 dólares, para pasar a pesos se debe hacer la conversión de divisa."
   ]
  },
  {
   "cell_type": "code",
   "execution_count": null,
   "id": "2c82caae-758e-4a7c-9547-15f39a173d56",
   "metadata": {},
   "outputs": [],
   "source": []
  },
  {
   "cell_type": "markdown",
   "id": "b03bbec0-d11c-49ff-b846-e8bb5a8ac61e",
   "metadata": {},
   "source": [
    "# 13 - Bodegón dinámico\n",
    "Un bodegón tiene una única mesa larga con W lugares. Hay una persona en la puerta que anota los grupos que quieren sentarse a comer, y la cantidad de integrantes que conforma a cada uno. Para simplificar su trabajo, se los anota en un vector P donde P[i] contiene la cantidad de personas que integran el grupo i, siendo en total n grupos. Como se trata de un restaurante familiar, las personas sólo se sientan en la mesa si todos los integrantes de su grupo pueden sentarse. Implementar un algoritmo que, mediante programación dinámica, obtenga el conjunto de grupos que ocupan la mayor cantidad de espacios en la mesa (o en otras palabras, que dejan la menor cantidad de espacios vacíos). "
   ]
  },
  {
   "cell_type": "code",
   "execution_count": null,
   "id": "c6cce4d1-0441-426c-836e-dca4217a9b45",
   "metadata": {},
   "outputs": [],
   "source": []
  },
  {
   "cell_type": "markdown",
   "id": "68d97f83-08d8-43d3-9b12-c537bbd52f6f",
   "metadata": {},
   "source": [
    "# 14 - Lunático el ladrón\n",
    "Somos ayudantes del gran ladrón el Lunático, que está pensando en su próximo atraco. Decidió en este caso robar toda una calle en un barrio privado, que tiene la particularidad de ser circular. Gracias a los trabajos de inteligencia realizados, sabemos cuánto se puede obtener por robar en cada casa. Podemos enumerar a la primer casa como la casa 0, de la cual podríamos obtener g0, la casa a su derecha es la 1, que nos daría g1, y así hasta llegar a la casa n-1, que nos daría gn-1. Toda casa se considera adyacente a las casas i-1 e i+1. Además, como la calle es circular, la casas 0 y n-1 también son vecinas. El problema con el que cuenta el Lunático es que sabe de experiencias anteriores que, si roba en una casa, los vecinos directos se enterarían muy rápido. No le daría tiempo a luego intentar robarles a ellos. Es decir, para robar una casa debe prescindir de robarle a sus vecinos directos. El Lunático nos encarga saber cuáles casas debería atracar y cuál sería la ganancia máxima obtenible. Dado que nosotros nos llevamos un porcentaje de dicha ganancia, vamos a buscar el óptimo a este problema. Implementar un algoritmo que, por programación dinámica, obtenga la ganancia óptima, así como cuáles casas habría que robar, a partir de recibir un arreglo de las ganancias obtenibles. Para esto, escribir y describir la ecuación de recurrencia correspondiente. "
   ]
  },
  {
   "cell_type": "code",
   "execution_count": null,
   "id": "6160e8db-4bad-41ac-8739-8ad28ddf81bf",
   "metadata": {},
   "outputs": [],
   "source": []
  },
  {
   "cell_type": "markdown",
   "id": "78ecaf73-f459-4436-9e9b-3564dcce8f48",
   "metadata": {},
   "source": [
    "# 15 - El problema de la soga\n",
    "Dada una soga de n metros (n mayor o igual a 2) implementar un algoritmo que, utilizando programación dinámica, permita cortarla (en partes de largo entero) de manera tal que el producto del largo de cada una de las partes resultantes sea máximo. El algoritmo debe devolver el valor del producto máximo alcanzable. Tener en cuenta que la soga puede cortarse varias veces, como se muestra en el ejemplo con n = 10.\n",
    "\n",
    "Ejemplos:\n",
    "\n",
    "n = 2 --> Debe devolver 1 (producto máximo es 1 * 1)\n",
    "\n",
    "n = 3 --> Debe devolver 2 (producto máximo es 2 * 1)\n",
    "\n",
    "n = 4 --> Debe devolver 4 (producto máximo es 2 * 2)\n",
    "\n",
    "n = 5 --> Debe devolver 6 (producto máximo es 2 * 3)\n",
    "\n",
    "n = 6 --> Debe devolver 9 (producto máximo es 3 * 3)\n",
    "\n",
    "n = 7 --> Debe devolver 12 (producto máximo es 3 * 4)\n",
    "\n",
    "n = 10 --> Debe devolver 36 (producto máximo es 3 * 3 * 4)"
   ]
  },
  {
   "cell_type": "code",
   "execution_count": null,
   "id": "e5032269-9207-4dde-a81b-12d25e2cc303",
   "metadata": {},
   "outputs": [],
   "source": []
  }
 ],
 "metadata": {
  "kernelspec": {
   "display_name": "Python 3 (ipykernel)",
   "language": "python",
   "name": "python3"
  },
  "language_info": {
   "codemirror_mode": {
    "name": "ipython",
    "version": 3
   },
   "file_extension": ".py",
   "mimetype": "text/x-python",
   "name": "python",
   "nbconvert_exporter": "python",
   "pygments_lexer": "ipython3",
   "version": "3.12.6"
  }
 },
 "nbformat": 4,
 "nbformat_minor": 5
}
