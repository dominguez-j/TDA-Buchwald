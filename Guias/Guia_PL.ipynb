{
 "cells": [
  {
   "cell_type": "markdown",
   "id": "8df92906-5dc0-448a-8cb4-a69fbac0bdc5",
   "metadata": {},
   "source": [
    "# 1 - Problema de la mochila\n",
    "Implementar un modelo de programación lineal que resuelva el Problema de la Mochila de valor máximo"
   ]
  },
  {
   "cell_type": "code",
   "execution_count": null,
   "id": "31bfc61a-f80f-4dbe-89d5-11bf61684ebc",
   "metadata": {},
   "outputs": [],
   "source": [
    "from typing import List\n",
    "\n",
    "import pulp\n",
    "from pulp import LpAffineExpression as Sumatoria\n",
    "\n",
    "def mochila_variable(v: List[int], w: List[int], W: int):\n",
    "    y = []\n",
    "    for i in range(len(v)):\n",
    "        y.append(pulp.LpVariable(\"y\" + str(i), cat=\"Binary\"))\n",
    "\n",
    "    problem = pulp.LpProblem(\"productos\", pulp.LpMaximize)\n",
    "    problem += Sumatoria([(y[i], w[i]) for i in range(len(y))]) <= W\n",
    "    problem += Sumatoria([(y[i], v[i]) for i in range(len(y))])\n",
    "\n",
    "    problem.solve()\n",
    "    return list(map(lambda yi: pulp.value(yi), y))"
   ]
  },
  {
   "cell_type": "markdown",
   "id": "a4fd3e32-c3af-4775-bcb3-a8b14138d8b5",
   "metadata": {},
   "source": [
    "# 2 - Juan el vago\n",
    "Implementar un modelo de programación lineal que resuelva el problema de Juan El Vago"
   ]
  },
  {
   "cell_type": "code",
   "execution_count": null,
   "id": "1aaac2f3-2041-49d4-8c27-1a6612b42c0c",
   "metadata": {},
   "outputs": [],
   "source": []
  },
  {
   "cell_type": "markdown",
   "id": "18939c98-67b9-47e7-a15b-6c8afbd8d8e4",
   "metadata": {},
   "source": [
    "# 3 - Vertex Cover\n",
    "Un Vertex Cover de un Grafo G es un conjunto de vértices del grafo en el cual todas las aristas del grafo tienen al menos uno de sus extremos en dicho conjunto. Por ejemplo, el conjunto de todos los vértices del grafo siempre será un Vertex Cover.\n",
    "\n",
    "Implementar un modelo de programación lineal que dado un Grafo no dirigido nos devuelva un conjunto de vértices que representen un mínimo Vertex Cover del mismo."
   ]
  },
  {
   "cell_type": "code",
   "execution_count": null,
   "id": "10d399c3-db5b-49b8-bbbc-fe628334e81e",
   "metadata": {},
   "outputs": [],
   "source": []
  }
 ],
 "metadata": {
  "kernelspec": {
   "display_name": "Python 3 (ipykernel)",
   "language": "python",
   "name": "python3"
  },
  "language_info": {
   "codemirror_mode": {
    "name": "ipython",
    "version": 3
   },
   "file_extension": ".py",
   "mimetype": "text/x-python",
   "name": "python",
   "nbconvert_exporter": "python",
   "pygments_lexer": "ipython3",
   "version": "3.12.6"
  }
 },
 "nbformat": 4,
 "nbformat_minor": 5
}
